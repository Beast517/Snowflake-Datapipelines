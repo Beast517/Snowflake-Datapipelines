{
 "cells": [
  {
   "cell_type": "code",
   "execution_count": 1,
   "metadata": {},
   "outputs": [
    {
     "name": "stderr",
     "output_type": "stream",
     "text": [
      "/Library/Frameworks/Python.framework/Versions/3.8/lib/python3.8/site-packages/cryptography/hazmat/backends/openssl/x509.py:14: CryptographyDeprecationWarning: This version of cryptography contains a temporary pyOpenSSL fallback path. Upgrade pyOpenSSL now.\n",
      "  warnings.warn(\n"
     ]
    }
   ],
   "source": [
    "from snowflake.snowpark import Session\n",
    "from snowflake.snowpark.functions import col,avg,row_number\n",
    "from snowflake.snowpark import Window\n",
    "\n",
    "def initiateSession(): \n",
    "    \n",
    "    connection_parameters = {\n",
    "            \"account\": \"ls88978.eu-west-1\",\n",
    "            \"user\": \"snowpark_user\",\n",
    "            \"password\": \"UdemySnowflake12!@\",\n",
    "            \"role\": \"Accountadmin\", \n",
    "            \"warehouse\": \"compute_wh\"\n",
    "    }\n",
    "    session = Session.builder.configs(connection_parameters).create()\n",
    "    return session\n",
    "\n",
    "session = initiateSession()"
   ]
  },
  {
   "cell_type": "code",
   "execution_count": null,
   "metadata": {},
   "outputs": [],
   "source": [
    "df_orders = session.table(\"SNOWFLAKE_SAMPLE_DATA.TPCH_SF10.ORDERS\")"
   ]
  },
  {
   "cell_type": "code",
   "execution_count": null,
   "metadata": {},
   "outputs": [],
   "source": [
    "type(df_orders)"
   ]
  },
  {
   "cell_type": "code",
   "execution_count": null,
   "metadata": {},
   "outputs": [],
   "source": [
    "df_orders.show(5)"
   ]
  },
  {
   "cell_type": "code",
   "execution_count": null,
   "metadata": {},
   "outputs": [],
   "source": [
    "df_orders.groupBy(\"O_ORDERSTATUS\").avg(\"O_TOTALPRICE\").show()"
   ]
  },
  {
   "cell_type": "code",
   "execution_count": null,
   "metadata": {},
   "outputs": [],
   "source": [
    "df_orders.groupBy(\"O_ORDERSTATUS\").count().show()"
   ]
  },
  {
   "cell_type": "code",
   "execution_count": null,
   "metadata": {},
   "outputs": [],
   "source": [
    "df_tmp = session.create_dataframe([(\"iphone12\", \"2000\",\"phone\",\"electronic gadgets\"), \\\n",
    "                                   (\"iphone13\", \"2400\",\"phone\",\"electronic gadgets\"), \\\n",
    "                                   (\"sansung galaxy\", \"2600\",\"phone\",\"electronic gadgets\"), \\\n",
    "                                   (\"microsoft windows 11\", \"3600\",\"phone\",\"electronic gadgets\"), \\\n",
    "                                   (\"samsung galaxy watch\", \"2600\",\"watch\",\"electronic gadgets\"), \\\n",
    "                                   (\"samsung galaxy watch2\", \"2900\",\"watch\",\"electronic gadgets\"), \\\n",
    "                                   (\"apple watch series 8\", \"3200\",\"watch\",\"electronic gadgets\"), \\\n",
    "                                   (\"apple watch se2\", \"1800\",\"watch\",\"electronic gadgets\"), \\\n",
    "                                    (\"Nike White Jersey\", \"300\",\"clothing\",\"non-electronic\"), \\\n",
    "                                   (\"Air jordon Shoes\", \"2300\",\"clothing\",\"non-electronic\"), \\\n",
    "                                   (\"Reebok Sneakers\", \"3000\",\"clothing\",\"non-electronic\"), \\\n",
    "                                   (\"yeezy red sneakers\", \"5300\",\"clothing\",\"non-electronic\") \\\n",
    "                                  ], \\\n",
    "                                  schema=[\"product_name\", \"value\",\"category\",\"product_type\"])\n",
    "\n",
    "df_tmp.show()"
   ]
  },
  {
   "cell_type": "code",
   "execution_count": null,
   "metadata": {},
   "outputs": [],
   "source": [
    "window = Window.order_by(\"value\") # Without partition by \n",
    "\n",
    "window2 = Window.partition_by(\"product_type\").order_by(\"value\") # Using partition by clause\n",
    "\n",
    "window3 = Window.partition_by(['category','product_type']).order_by(\"value\") # Using multiple columns in partition-by clause\n"
   ]
  },
  {
   "cell_type": "code",
   "execution_count": null,
   "metadata": {},
   "outputs": [],
   "source": [
    "df_tmp.withColumn(\"row_number\",row_number().over(window)).show()"
   ]
  },
  {
   "cell_type": "code",
   "execution_count": null,
   "metadata": {},
   "outputs": [],
   "source": [
    "df_tmp.withColumn(\"row_number\",row_number().over(window2)).show()"
   ]
  },
  {
   "cell_type": "code",
   "execution_count": null,
   "metadata": {},
   "outputs": [],
   "source": [
    "df_tmp.withColumn(\"row_number\",row_number().over(window3)).show()"
   ]
  },
  {
   "cell_type": "code",
   "execution_count": null,
   "metadata": {},
   "outputs": [],
   "source": [
    "df_orders = session.table(\"SNOWFLAKE_SAMPLE_DATA.TPCH_SF10.ORDERS\") \\\n",
    "            .select(['O_ORDERKEY','O_CUSTKEY','O_TOTALPRICE']) \\\n",
    "            .filter(\"O_ORDERKEY=31593217\")\n",
    "\n",
    "df_orders.show()"
   ]
  },
  {
   "cell_type": "code",
   "execution_count": 4,
   "metadata": {},
   "outputs": [
    {
     "name": "stdout",
     "output_type": "stream",
     "text": [
      "-------------------------------------------------------------------\n",
      "|\"SUPP_KEY\"  |\"SUPPLIER_NAME\"     |\"NATION_KEY\"  |\"NATION_NAME\"   |\n",
      "-------------------------------------------------------------------\n",
      "|12001       |Supplier#000012001  |1             |ARGENTINA       |\n",
      "|12002       |Supplier#000012002  |23            |UNITED KINGDOM  |\n",
      "|12003       |Supplier#000012003  |13            |JORDAN          |\n",
      "|12004       |Supplier#000012004  |22            |RUSSIA          |\n",
      "|12005       |Supplier#000012005  |9             |INDONESIA       |\n",
      "|12006       |Supplier#000012006  |9             |INDONESIA       |\n",
      "|12007       |Supplier#000012007  |1             |ARGENTINA       |\n",
      "|12008       |Supplier#000012008  |21            |VIETNAM         |\n",
      "|12009       |Supplier#000012009  |3             |CANADA          |\n",
      "|12010       |Supplier#000012010  |9             |INDONESIA       |\n",
      "-------------------------------------------------------------------\n",
      "\n"
     ]
    }
   ],
   "source": [
    "sql = \"\"\"\n",
    "        select \n",
    "            S_SUPPKEY as SUPP_KEY,\n",
    "            S_NAME as SUPPLIER_NAME,\n",
    "            S_NATIONKEY as NATION_KEY,\n",
    "            N.N_NAME as NATION_NAME\n",
    "        from \n",
    "            SNOWFLAKE_SAMPLE_DATA.TPCH_SF10.SUPPLIER S \n",
    "        LEFT JOIN \n",
    "            SNOWFLAKE_SAMPLE_DATA.TPCH_SF10.NATION N\n",
    "        ON \n",
    "            S.S_NATIONKEY = N.N_NATIONKEY\n",
    "        \"\"\"\n",
    "\n",
    "df_supplier = session.sql(sql)\n",
    "df_supplier.show()"
   ]
  },
  {
   "cell_type": "code",
   "execution_count": null,
   "metadata": {},
   "outputs": [],
   "source": [
    "type(df_supplier)"
   ]
  },
  {
   "cell_type": "code",
   "execution_count": 6,
   "metadata": {},
   "outputs": [
    {
     "name": "stderr",
     "output_type": "stream",
     "text": [
      "/Library/Frameworks/Python.framework/Versions/3.8/lib/python3.8/site-packages/cryptography/hazmat/backends/openssl/x509.py:14: CryptographyDeprecationWarning: This version of cryptography contains a temporary pyOpenSSL fallback path. Upgrade pyOpenSSL now.\n",
      "  warnings.warn(\n",
      "/Library/Frameworks/Python.framework/Versions/3.8/lib/python3.8/site-packages/cryptography/hazmat/backends/openssl/x509.py:14: CryptographyDeprecationWarning: This version of cryptography contains a temporary pyOpenSSL fallback path. Upgrade pyOpenSSL now.\n",
      "  warnings.warn(\n"
     ]
    }
   ],
   "source": [
    "import pandas as pd \n",
    "df_supplier = df_supplier.to_pandas()\n",
    "df_supplier.columns = [x.upper() for x in df_supplier.columns]"
   ]
  },
  {
   "cell_type": "code",
   "execution_count": null,
   "metadata": {},
   "outputs": [],
   "source": [
    "type(df_supplier)"
   ]
  },
  {
   "cell_type": "code",
   "execution_count": 9,
   "metadata": {},
   "outputs": [
    {
     "data": {
      "text/plain": [
       "[Row(status='Table SUPPLIER_DETAILS successfully created.')]"
      ]
     },
     "execution_count": 9,
     "metadata": {},
     "output_type": "execute_result"
    }
   ],
   "source": [
    "query = \"\"\"create or replace table SNOWPARK_UDEMY.test_schema.SUPPLIER_DETAILS (supp_key integer,supplier_name varchar(100),\n",
    "            nation_key integer ,nation_name varchar(100) )\n",
    "        \"\"\"\n",
    "session.sql(query).collect()\n"
   ]
  },
  {
   "cell_type": "code",
   "execution_count": null,
   "metadata": {},
   "outputs": [],
   "source": []
  },
  {
   "cell_type": "code",
   "execution_count": 21,
   "metadata": {},
   "outputs": [],
   "source": [
    "session.sql(\"use schema SNOWPARK_UDEMY.test_schema\").collect()\n",
    "res = session.write_pandas(df_supplier, \"SUPPLIER_DETAILS\")"
   ]
  },
  {
   "cell_type": "code",
   "execution_count": 25,
   "metadata": {},
   "outputs": [],
   "source": [
    "session.close()"
   ]
  },
  {
   "cell_type": "code",
   "execution_count": null,
   "metadata": {},
   "outputs": [],
   "source": []
  },
  {
   "cell_type": "code",
   "execution_count": null,
   "metadata": {},
   "outputs": [],
   "source": []
  },
  {
   "cell_type": "code",
   "execution_count": null,
   "metadata": {},
   "outputs": [],
   "source": []
  }
 ],
 "metadata": {
  "kernelspec": {
   "display_name": "Python 3",
   "language": "python",
   "name": "python3"
  },
  "language_info": {
   "codemirror_mode": {
    "name": "ipython",
    "version": 3
   },
   "file_extension": ".py",
   "mimetype": "text/x-python",
   "name": "python",
   "nbconvert_exporter": "python",
   "pygments_lexer": "ipython3",
   "version": "3.8.7rc1"
  }
 },
 "nbformat": 4,
 "nbformat_minor": 4
}

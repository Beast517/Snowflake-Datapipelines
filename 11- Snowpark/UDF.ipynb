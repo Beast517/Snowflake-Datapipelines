{
 "cells": [
  {
   "cell_type": "code",
   "execution_count": 1,
   "metadata": {},
   "outputs": [
    {
     "name": "stderr",
     "output_type": "stream",
     "text": [
      "/Library/Frameworks/Python.framework/Versions/3.8/lib/python3.8/site-packages/cryptography/hazmat/backends/openssl/x509.py:14: CryptographyDeprecationWarning: This version of cryptography contains a temporary pyOpenSSL fallback path. Upgrade pyOpenSSL now.\n",
      "  warnings.warn(\n"
     ]
    }
   ],
   "source": [
    "from snowflake.snowpark import Session\n",
    "from snowflake.snowpark.functions import udf\n",
    "from snowflake.snowpark.types import *\n",
    "\n",
    "def initiateSession(): \n",
    "    connection_parameters = {\n",
    "            \"account\": \"ls88978.eu-west-1\",\n",
    "            \"user\": \"snowpark_user\",\n",
    "            \"password\": \"UdemySnowflake12!@\",\n",
    "            \"role\": \"Accountadmin\", \n",
    "            \"warehouse\": \"compute_wh\",\n",
    "            \"database\":\"SNOWPARK_UDEMY\",\n",
    "            \"schema\":\"TEST_SCHEMA\"\n",
    "    }\n",
    "    session = Session.builder.configs(connection_parameters).create()\n",
    "    return session\n",
    "\n",
    "session = initiateSession()"
   ]
  },
  {
   "cell_type": "code",
   "execution_count": 3,
   "metadata": {},
   "outputs": [
    {
     "data": {
      "text/plain": [
       "[Row(status='Stage area SNOWPARK_UDF_STAGE successfully created.')]"
      ]
     },
     "execution_count": 3,
     "metadata": {},
     "output_type": "execute_result"
    }
   ],
   "source": [
    "query = \"create or replace stage snowpark_udf_stage\" +\\\n",
    "        \" directory = (enable = true)\" +\\\n",
    "        \" copy_options = (on_error='skip_file')\"\n",
    "session.sql(query).collect()"
   ]
  },
  {
   "cell_type": "code",
   "execution_count": 4,
   "metadata": {},
   "outputs": [],
   "source": [
    "def calculate_deductions(total_price,deduction_percentage):\n",
    "  return ((deduction_percentage)/100)*total_price"
   ]
  },
  {
   "cell_type": "code",
   "execution_count": 5,
   "metadata": {},
   "outputs": [
    {
     "data": {
      "text/plain": [
       "<snowflake.snowpark.udf.UserDefinedFunction at 0x7ff87a385c40>"
      ]
     },
     "execution_count": 5,
     "metadata": {},
     "output_type": "execute_result"
    }
   ],
   "source": [
    "session.udf.register(\n",
    "    func = calculate_deductions,\n",
    "    return_type = FloatType(),\n",
    "    input_types = [FloatType(),FloatType()],\n",
    "    is_permanent = True,\n",
    "    name = 'calculate_deductions',\n",
    "    replace = True,\n",
    "    stage_location = '@snowpark_udf_stage'\n",
    ")"
   ]
  },
  {
   "cell_type": "code",
   "execution_count": 6,
   "metadata": {},
   "outputs": [
    {
     "name": "stdout",
     "output_type": "stream",
     "text": [
      "------------------------------------------------------------\n",
      "|\"O_TOTALPRICE\"  |\"CALCULATE_DEDUCTIONS(O_TOTALPRICE,30)\"  |\n",
      "------------------------------------------------------------\n",
      "|119544.06       |35863.218                                |\n",
      "|7886.05         |2365.815                                 |\n",
      "|211426.16       |63427.848                                |\n",
      "|131324.05       |39397.215                                |\n",
      "|97735.74        |29320.722                                |\n",
      "|83196.72        |24959.016                                |\n",
      "|58768.90        |17630.67                                 |\n",
      "|108138.25       |32441.475                                |\n",
      "|145446.27       |43633.880999999994                       |\n",
      "|25240.19        |7572.056999999999                        |\n",
      "------------------------------------------------------------\n",
      "\n"
     ]
    }
   ],
   "source": [
    "sql = \"\"\"select \n",
    "            O_TOTALPRICE,\n",
    "            calculate_deductions(O_TOTALPRICE,30) \n",
    "        from \n",
    "            SNOWFLAKE_SAMPLE_DATA.TPCH_SF10.ORDERS limit 10\n",
    "        \"\"\"\n",
    "session.sql(sql).show()"
   ]
  },
  {
   "cell_type": "code",
   "execution_count": 7,
   "metadata": {},
   "outputs": [],
   "source": [
    "@udf(session=session,packages=[\"pandas\"],name=\"calculate_deductions_decorator\",is_permanent = True,replace=True,stage_location = '@snowpark_udf_stage')\n",
    "def calculate_deductions_decorator(total_price:float,deduction_percentage:float)->float:\n",
    "  return ((deduction_percentage)/100)*total_price\n"
   ]
  },
  {
   "cell_type": "code",
   "execution_count": 8,
   "metadata": {},
   "outputs": [
    {
     "name": "stdout",
     "output_type": "stream",
     "text": [
      "----------------------------------------------------------------------\n",
      "|\"O_TOTALPRICE\"  |\"CALCULATE_DEDUCTIONS_DECORATOR(O_TOTALPRICE,30)\"  |\n",
      "----------------------------------------------------------------------\n",
      "|155918.31       |46775.492999999995                                 |\n",
      "|99586.08        |29875.824                                          |\n",
      "|237864.42       |71359.326                                          |\n",
      "|246278.06       |73883.41799999999                                  |\n",
      "|274488.56       |82346.568                                          |\n",
      "|277756.90       |83327.07                                           |\n",
      "|202932.68       |60879.804                                          |\n",
      "|146252.59       |43875.776999999995                                 |\n",
      "|139073.10       |41721.93                                           |\n",
      "|147367.27       |44210.181                                          |\n",
      "----------------------------------------------------------------------\n",
      "\n"
     ]
    }
   ],
   "source": [
    "sql = \"\"\"select \n",
    "            O_TOTALPRICE,\n",
    "            calculate_deductions_decorator(O_TOTALPRICE,30) \n",
    "        from \n",
    "            SNOWFLAKE_SAMPLE_DATA.TPCH_SF10.ORDERS limit 10\n",
    "        \"\"\"\n",
    "session.sql(sql).show()"
   ]
  },
  {
   "cell_type": "code",
   "execution_count": null,
   "metadata": {},
   "outputs": [],
   "source": []
  },
  {
   "cell_type": "code",
   "execution_count": null,
   "metadata": {},
   "outputs": [],
   "source": []
  },
  {
   "cell_type": "code",
   "execution_count": null,
   "metadata": {},
   "outputs": [],
   "source": []
  },
  {
   "cell_type": "code",
   "execution_count": null,
   "metadata": {},
   "outputs": [],
   "source": []
  },
  {
   "cell_type": "code",
   "execution_count": null,
   "metadata": {},
   "outputs": [],
   "source": []
  }
 ],
 "metadata": {
  "kernelspec": {
   "display_name": "Python 3",
   "language": "python",
   "name": "python3"
  },
  "language_info": {
   "codemirror_mode": {
    "name": "ipython",
    "version": 3
   },
   "file_extension": ".py",
   "mimetype": "text/x-python",
   "name": "python",
   "nbconvert_exporter": "python",
   "pygments_lexer": "ipython3",
   "version": "3.8.7rc1"
  }
 },
 "nbformat": 4,
 "nbformat_minor": 4
}

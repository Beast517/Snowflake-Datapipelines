{
 "cells": [
  {
   "cell_type": "code",
   "execution_count": 1,
   "metadata": {},
   "outputs": [
    {
     "name": "stderr",
     "output_type": "stream",
     "text": [
      "/Library/Frameworks/Python.framework/Versions/3.8/lib/python3.8/site-packages/cryptography/hazmat/backends/openssl/x509.py:14: CryptographyDeprecationWarning: This version of cryptography contains a temporary pyOpenSSL fallback path. Upgrade pyOpenSSL now.\n",
      "  warnings.warn(\n"
     ]
    }
   ],
   "source": [
    "from snowflake.snowpark import Session\n",
    "from snowflake.snowpark.functions import sproc,sum\n",
    "\n",
    "import snowflake.snowpark\n",
    "from snowflake.snowpark import functions as F\n",
    "\n",
    "def initiateSession(): \n",
    "    connection_parameters = {\n",
    "            \"account\": \"ls88978.eu-west-1\",\n",
    "            \"user\": \"snowpark_user\",\n",
    "            \"password\": \"UdemySnowflake12!@\",\n",
    "            \"role\": \"Accountadmin\", \n",
    "            \"warehouse\": \"compute_wh\",\n",
    "            \"database\":\"SNOWPARK_UDEMY\",\n",
    "            \"schema\":\"TEST_SCHEMA\"\n",
    "    }\n",
    "    session = Session.builder.configs(connection_parameters).create()\n",
    "    return session\n",
    "\n",
    "session = initiateSession()\n",
    "\n",
    "session.add_packages('snowflake-snowpark-python', 'pandas')"
   ]
  },
  {
   "cell_type": "code",
   "execution_count": 2,
   "metadata": {},
   "outputs": [
    {
     "data": {
      "text/plain": [
       "[Row(status='Stage area SNOWPARK_SPROC_STAGE successfully created.')]"
      ]
     },
     "execution_count": 2,
     "metadata": {},
     "output_type": "execute_result"
    }
   ],
   "source": [
    "\n",
    "query = \"create or replace stage snowpark_sproc_stage\" +\\\n",
    "        \" directory = (enable = true)\" +\\\n",
    "        \" copy_options = (on_error='skip_file')\"\n",
    "session.sql(query).collect()"
   ]
  },
  {
   "cell_type": "markdown",
   "metadata": {},
   "source": [
    "<H2>Create Stored Procedure Function</H2>"
   ]
  },
  {
   "cell_type": "code",
   "execution_count": 3,
   "metadata": {},
   "outputs": [],
   "source": [
    "def df_transform_sproc(session: snowflake.snowpark.Session) -> str:\n",
    "    \n",
    "    df_orders = session.table(\"SNOWFLAKE_SAMPLE_DATA.TPCH_SF10.ORDERS\") \\\n",
    "                .select(['O_ORDERKEY','O_CUSTKEY','O_TOTALPRICE']) \\\n",
    "                .filter(\"O_TOTALPRICE>=100000\")\n",
    "\n",
    "    df_lineitem = session.table(\"SNOWFLAKE_SAMPLE_DATA.TPCH_SF10.LINEITEM\") \\\n",
    "                .select(['L_SUPPKEY','L_ORDERKEY','L_QUANTITY','L_PARTKEY'])\n",
    "\n",
    "    df_order_lineitem = df_orders.join(df_lineitem,df_lineitem.L_ORDERKEY == df_orders.O_ORDERKEY) \\\n",
    "            .select(['L_ORDERKEY','O_CUSTKEY','O_TOTALPRICE','L_QUANTITY','L_SUPPKEY','L_PARTKEY'])\n",
    "    \n",
    "    try : \n",
    "        df_order_lineitem.write.mode(\"overwrite\").save_as_table(\"order_lineitems\")\n",
    "        return 'success'\n",
    "    except Exception as e : \n",
    "        return e"
   ]
  },
  {
   "cell_type": "markdown",
   "metadata": {},
   "source": [
    "<H2>Create a Table in SF To Store the result of above Transformation</H2>"
   ]
  },
  {
   "cell_type": "code",
   "execution_count": 4,
   "metadata": {},
   "outputs": [
    {
     "data": {
      "text/plain": [
       "[Row(status='Table ORDER_LINEITEMS successfully created.')]"
      ]
     },
     "execution_count": 4,
     "metadata": {},
     "output_type": "execute_result"
    }
   ],
   "source": [
    "query = \"\"\"create or replace table SNOWPARK_UDEMY.test_schema.order_lineitems \n",
    "        (\n",
    "            L_ORDERKEY integer,O_CUSTKEY integer,O_TOTALPRICE float ,L_QUANTITY FLOAT,\n",
    "            L_SUPPKEY integer,L_PARTKEY integer\n",
    "        )\n",
    "        \"\"\"\n",
    "\n",
    "session.sql(query).collect()"
   ]
  },
  {
   "cell_type": "markdown",
   "metadata": {},
   "source": [
    "<h2>Deploy the Stored Proc</h2>"
   ]
  },
  {
   "cell_type": "code",
   "execution_count": 5,
   "metadata": {},
   "outputs": [],
   "source": [
    "execute_dftransforms_sproc = sproc(df_transform_sproc,name='df_transform_sproc',stage_location='@snowpark_sproc_stage', \\\n",
    "                               is_permanent=True,replace=True)\n"
   ]
  },
  {
   "cell_type": "markdown",
   "metadata": {},
   "source": [
    "<H2>Invoke Stored Proc</H2>"
   ]
  },
  {
   "cell_type": "code",
   "execution_count": 6,
   "metadata": {},
   "outputs": [
    {
     "data": {
      "text/plain": [
       "'success'"
      ]
     },
     "execution_count": 6,
     "metadata": {},
     "output_type": "execute_result"
    }
   ],
   "source": [
    "execute_dftransforms_sproc()"
   ]
  },
  {
   "cell_type": "markdown",
   "metadata": {},
   "source": [
    "<h2>Create Stored Proc using decorators</h2>"
   ]
  },
  {
   "cell_type": "code",
   "execution_count": 7,
   "metadata": {},
   "outputs": [],
   "source": [
    "@sproc(name=\"customer_order_qty_sproc\", replace=True, is_permanent=True, stage_location=\"@snowpark_sproc_stage\")\n",
    "\n",
    "def customer_order_qty_func(session: snowflake.snowpark.Session,cust_key:int) -> dict:\n",
    "    \n",
    "    df_orders = session.table(\"SNOWFLAKE_SAMPLE_DATA.TPCH_SF10.ORDERS\") \\\n",
    "                .select(['O_ORDERKEY','O_CUSTKEY','O_TOTALPRICE']) \\\n",
    "                .filter(\"O_CUSTKEY=\"+str(cust_key))\n",
    "    \n",
    "    df_lineitem = session.table(\"SNOWFLAKE_SAMPLE_DATA.TPCH_SF10.LINEITEM\") \\\n",
    "                .select(['L_SUPPKEY','L_ORDERKEY','L_QUANTITY'])\n",
    "    \n",
    "    df_lineitem = df_lineitem.groupBy('L_ORDERKEY') \\\n",
    "            .sum(df_lineitem.L_QUANTITY).withColumnRenamed(\"SUM(L_QUANTITY)\",\"sum_qty\")\n",
    "    \n",
    "\n",
    "    df_order_details = df_orders.join(df_lineitem,df_lineitem.L_ORDERKEY == df_orders.O_ORDERKEY) \\\n",
    "            .select(['L_ORDERKEY','O_TOTALPRICE','SUM_QTY'])\n",
    "    \n",
    "    df_order_details = df_order_details.to_pandas()\n",
    "    \n",
    "    return df_order_details.to_dict()"
   ]
  },
  {
   "cell_type": "markdown",
   "metadata": {},
   "source": [
    "<h2>Invoke Stored Proc in the current Session </h2>"
   ]
  },
  {
   "cell_type": "code",
   "execution_count": 8,
   "metadata": {},
   "outputs": [
    {
     "data": {
      "text/plain": [
       "'{\\n  \"L_ORDERKEY\": {\\n    \"0\": 6397767,\\n    \"1\": 45389760,\\n    \"10\": 33993218,\\n    \"11\": 54065831,\\n    \"12\": 13363936,\\n    \"13\": 28651620,\\n    \"14\": 17163012,\\n    \"15\": 25825507,\\n    \"16\": 43183713,\\n    \"17\": 17904067,\\n    \"18\": 45069253,\\n    \"19\": 59000928,\\n    \"2\": 13235332,\\n    \"20\": 32082881,\\n    \"3\": 57159842,\\n    \"4\": 46284291,\\n    \"5\": 14379168,\\n    \"6\": 26488259,\\n    \"7\": 22592805,\\n    \"8\": 23173127,\\n    \"9\": 44436551\\n  },\\n  \"O_TOTALPRICE\": {\\n    \"0\": 37354.42,\\n    \"1\": 127356.05,\\n    \"10\": 215438.6,\\n    \"11\": 141486.98,\\n    \"12\": 147898.76,\\n    \"13\": 117162.78,\\n    \"14\": 60943.18,\\n    \"15\": 264466.05,\\n    \"16\": 368012.9,\\n    \"17\": 164632.53,\\n    \"18\": 96684.88,\\n    \"19\": 109329.26,\\n    \"2\": 155972.04,\\n    \"20\": 342323.48,\\n    \"3\": 245405.02,\\n    \"4\": 145017.45,\\n    \"5\": 244378.28,\\n    \"6\": 208696.56,\\n    \"7\": 135090.93,\\n    \"8\": 18194.1,\\n    \"9\": 155849.78\\n  },\\n  \"SUM_QTY\": {\\n    \"0\": 22,\\n    \"1\": 92,\\n    \"10\": 162,\\n    \"11\": 108,\\n    \"12\": 101,\\n    \"13\": 79,\\n    \"14\": 58,\\n    \"15\": 181,\\n    \"16\": 218,\\n    \"17\": 133,\\n    \"18\": 65,\\n    \"19\": 71,\\n    \"2\": 100,\\n    \"20\": 246,\\n    \"3\": 146,\\n    \"4\": 80,\\n    \"5\": 155,\\n    \"6\": 159,\\n    \"7\": 121,\\n    \"8\": 12,\\n    \"9\": 126\\n  }\\n}'"
      ]
     },
     "execution_count": 8,
     "metadata": {},
     "output_type": "execute_result"
    }
   ],
   "source": [
    "session.call(\"customer_order_qty_sproc\",171983)"
   ]
  },
  {
   "cell_type": "code",
   "execution_count": null,
   "metadata": {},
   "outputs": [],
   "source": []
  },
  {
   "cell_type": "code",
   "execution_count": null,
   "metadata": {},
   "outputs": [],
   "source": []
  },
  {
   "cell_type": "code",
   "execution_count": null,
   "metadata": {},
   "outputs": [],
   "source": []
  },
  {
   "cell_type": "code",
   "execution_count": null,
   "metadata": {},
   "outputs": [],
   "source": []
  }
 ],
 "metadata": {
  "kernelspec": {
   "display_name": "Python 3",
   "language": "python",
   "name": "python3"
  },
  "language_info": {
   "codemirror_mode": {
    "name": "ipython",
    "version": 3
   },
   "file_extension": ".py",
   "mimetype": "text/x-python",
   "name": "python",
   "nbconvert_exporter": "python",
   "pygments_lexer": "ipython3",
   "version": "3.8.7rc1"
  }
 },
 "nbformat": 4,
 "nbformat_minor": 4
}

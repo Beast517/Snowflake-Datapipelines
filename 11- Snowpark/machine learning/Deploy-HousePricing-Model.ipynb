{
 "cells": [
  {
   "cell_type": "code",
   "execution_count": 1,
   "metadata": {},
   "outputs": [
    {
     "name": "stderr",
     "output_type": "stream",
     "text": [
      "/Library/Frameworks/Python.framework/Versions/3.8/lib/python3.8/site-packages/cryptography/hazmat/backends/openssl/x509.py:14: CryptographyDeprecationWarning: This version of cryptography contains a temporary pyOpenSSL fallback path. Upgrade pyOpenSSL now.\n",
      "  warnings.warn(\n"
     ]
    }
   ],
   "source": [
    "import snowflake.snowpark\n",
    "from snowflake.snowpark.functions import sproc\n",
    "from snowflake.snowpark.session import Session\n",
    "\n",
    "from sklearn.impute import SimpleImputer\n",
    "from sklearn.pipeline import Pipeline\n",
    "from sklearn.preprocessing import StandardScaler\n",
    "from sklearn.preprocessing import OneHotEncoder\n",
    "from sklearn.compose import ColumnTransformer\n",
    "from sklearn.ensemble import RandomForestRegressor\n",
    "from sklearn.metrics import mean_squared_error\n",
    "from sklearn.model_selection import train_test_split\n",
    "\n",
    "import pandas as pd\n",
    "import numpy as np\n",
    "import datetime\n",
    "import io\n",
    "import joblib\n",
    "\n",
    "connection_parameters = {\n",
    "            \"account\": \"ls88978.eu-west-1\",\n",
    "            \"user\": \"snowpark_user\",\n",
    "            \"password\": \"UdemySnowflake12!@\",\n",
    "            \"role\": \"Accountadmin\", \n",
    "            \"warehouse\": \"HOUSING_MODEL_WH\",\n",
    "            \"database\":\"SNOWPARK_UDEMY\",\n",
    "            \"schema\":\"TEST_SCHEMA\"\n",
    "}\n",
    "\n",
    "session = Session.builder.configs(connection_parameters).create()\n",
    "\n",
    "session.add_packages('snowflake-snowpark-python', 'scikit-learn', 'pandas', 'numpy', 'joblib', 'cachetools')"
   ]
  },
  {
   "cell_type": "markdown",
   "metadata": {},
   "source": [
    "<h2>Create Internal Stages in Snowflake</h2>"
   ]
  },
  {
   "cell_type": "code",
   "execution_count": 2,
   "metadata": {},
   "outputs": [
    {
     "data": {
      "text/plain": [
       "[Row(status='Stage area HOUSE_MODEL_OUTPUT_STG successfully created.')]"
      ]
     },
     "execution_count": 2,
     "metadata": {},
     "output_type": "execute_result"
    }
   ],
   "source": [
    "query = \"create or replace stage house_model_training_sproc_stg\" +\\\n",
    "        \" directory = (enable = true)\" +\\\n",
    "        \" copy_options = (on_error='skip_file')\"\n",
    "session.sql(query).collect()\n",
    "\n",
    "query = \"create or replace stage house_model_output_stg\" +\\\n",
    "        \" copy_options = (on_error='skip_file')\"\n",
    "session.sql(query).collect()"
   ]
  },
  {
   "cell_type": "markdown",
   "metadata": {},
   "source": [
    "<h2>Function Definition for pre-processing & Model Training/Fitting </h2>"
   ]
  },
  {
   "cell_type": "code",
   "execution_count": 3,
   "metadata": {},
   "outputs": [],
   "source": [
    "def save_file(session, model, path):\n",
    "  input_stream = io.BytesIO()\n",
    "  joblib.dump(model, input_stream)\n",
    "  session._conn._cursor.upload_stream(input_stream, path)\n",
    "  return \"successfully created file: \" + path\n",
    "\n",
    "def train_model(session: snowflake.snowpark.Session) -> float:\n",
    "    \n",
    "    snowdf = session.table(\"HOUSING_DATA\")\n",
    "    snowdf_train, snowdf_test = snowdf.random_split([0.8, 0.2], seed=82)\n",
    "    \n",
    "    snowdf_train.write.mode(\"overwrite\").save_as_table(\"HOUSING_TRAIN\")\n",
    "    snowdf_test.write.mode(\"overwrite\").save_as_table(\"HOUSING_TEST\")\n",
    "    \n",
    "    housing_train = snowdf_train.drop(\"MEDIAN_HOUSE_VALUE\").to_pandas() \n",
    "    housing_train_labels = snowdf_train.select(\"MEDIAN_HOUSE_VALUE\").to_pandas()\n",
    "    housing_test = snowdf_test.drop(\"MEDIAN_HOUSE_VALUE\").to_pandas()\n",
    "    housing_test_labels = snowdf_test.select(\"MEDIAN_HOUSE_VALUE\").to_pandas()\n",
    "\n",
    "\n",
    "    housing_num = housing_train.drop(\"OCEAN_PROXIMITY\", axis=1)\n",
    "\n",
    "    num_pipeline = Pipeline([\n",
    "            ('imputer', SimpleImputer(strategy=\"median\")),\n",
    "            ('std_scaler', StandardScaler()),\n",
    "        ])\n",
    "\n",
    "    num_attribs = list(housing_num)\n",
    "    cat_attribs = [\"OCEAN_PROXIMITY\"]\n",
    "\n",
    "    preprocessor = ColumnTransformer([\n",
    "            (\"num\", num_pipeline, num_attribs),\n",
    "            (\"cat\", OneHotEncoder(), cat_attribs)\n",
    "        ])\n",
    "\n",
    "    full_pipeline = Pipeline([\n",
    "            ('preprocessor', preprocessor),\n",
    "            ('model', RandomForestRegressor(n_estimators=100, random_state=42)),\n",
    "        ])\n",
    "\n",
    "    full_pipeline.fit(housing_train, housing_train_labels)\n",
    "\n",
    "    save_file(session, full_pipeline, \"@house_model_output_stg/housing_price_reg.joblib\")\n",
    "\n",
    "    housing_predictions = full_pipeline.predict(housing_test)\n",
    "    lin_mse = mean_squared_error(housing_test_labels, housing_predictions)\n",
    "    lin_rmse = np.sqrt(lin_mse)\n",
    "    return lin_rmse"
   ]
  },
  {
   "cell_type": "markdown",
   "metadata": {},
   "source": [
    "<h2>Create Stored Procedure</h2>"
   ]
  },
  {
   "cell_type": "code",
   "execution_count": 4,
   "metadata": {},
   "outputs": [],
   "source": [
    "\n",
    "train_model_sp = sproc(train_model,name='train_house_model',stage_location='@house_model_training_sproc_stg', \\\n",
    "                       is_permanent=True,replace=True)\n"
   ]
  },
  {
   "cell_type": "markdown",
   "metadata": {},
   "source": [
    "<h2>Invoke SPROC for Model Training </h2>"
   ]
  },
  {
   "cell_type": "code",
   "execution_count": 5,
   "metadata": {},
   "outputs": [
    {
     "data": {
      "text/plain": [
       "49501.16717526244"
      ]
     },
     "execution_count": 5,
     "metadata": {},
     "output_type": "execute_result"
    }
   ],
   "source": [
    "train_model_sp()"
   ]
  },
  {
   "cell_type": "markdown",
   "metadata": {},
   "source": [
    "<h2>Schedule a Task to perform Model training every Monday at 10 AM UTC </h2>"
   ]
  },
  {
   "cell_type": "code",
   "execution_count": null,
   "metadata": {},
   "outputs": [],
   "source": [
    "sql = \"\"\"\n",
    "        CREATE OR REPLACE TASK housing_model_training\n",
    "        WAREHOUSE = COMPUTE_WH\n",
    "        SCHEDULE = ‘USING CRON * 10 * * MON UTC’\n",
    "        AS\n",
    "        call train_house_model();\n",
    "        \"\"\"\n",
    "session.sql(sql)"
   ]
  },
  {
   "cell_type": "markdown",
   "metadata": {},
   "source": [
    "<h2>Create Stage for Model Serving UDF</h2>"
   ]
  },
  {
   "cell_type": "code",
   "execution_count": 17,
   "metadata": {},
   "outputs": [
    {
     "name": "stderr",
     "output_type": "stream",
     "text": [
      "/Library/Frameworks/Python.framework/Versions/3.8/lib/python3.8/site-packages/cryptography/hazmat/backends/openssl/x509.py:14: CryptographyDeprecationWarning: This version of cryptography contains a temporary pyOpenSSL fallback path. Upgrade pyOpenSSL now.\n",
      "  warnings.warn(\n"
     ]
    },
    {
     "data": {
      "text/plain": [
       "[Row(status='Stage area HOUSE_MODEL_SERVING_UDF_STG successfully created.')]"
      ]
     },
     "execution_count": 17,
     "metadata": {},
     "output_type": "execute_result"
    }
   ],
   "source": [
    "query = \"create or replace stage house_model_serving_udf_stg\" +\\\n",
    "        \" copy_options = (on_error='skip_file')\"\n",
    "session.sql(query).collect()"
   ]
  },
  {
   "cell_type": "markdown",
   "metadata": {},
   "source": [
    "<h2>Create UDF for Prediction Serving</h2>"
   ]
  },
  {
   "cell_type": "code",
   "execution_count": 18,
   "metadata": {},
   "outputs": [],
   "source": [
    "import sys\n",
    "import cachetools\n",
    "import os\n",
    "from snowflake.snowpark.functions import udf\n",
    "session.add_import(\"@house_model_output_stg/housing_price_reg.joblib\")  \n",
    "\n",
    "@cachetools.cached(cache={})\n",
    "def read_file(filename):\n",
    "       import_dir = sys._xoptions.get(\"snowflake_import_directory\")\n",
    "       if import_dir:\n",
    "              with open(os.path.join(import_dir, filename), 'rb') as file:\n",
    "                     m = joblib.load(file)\n",
    "                     return m\n",
    "\n",
    "features = ['LONGITUDE', 'LATITUDE', 'HOUSING_MEDIAN_AGE', 'TOTAL_ROOMS',\n",
    "       'TOTAL_BEDROOMS', 'POPULATION', 'HOUSEHOLDS', 'MEDIAN_INCOME', 'OCEAN_PROXIMITY']\n",
    "\n",
    "@udf(name=\"predict_house_value\", is_permanent=True, stage_location=\"@house_model_serving_udf_stg\", replace=True)\n",
    "def predict_house_value(LONGITUDE: float, LATITUDE: float, HOUSING_MEDIAN_AGE: float, TOTAL_ROOMS: float, \n",
    "                    TOTAL_BEDROOMS: float, POPULATION: float, HOUSEHOLDS: float, MEDIAN_INCOME: float, \n",
    "                    OCEAN_PROXIMITY: str) -> float:\n",
    "       m = read_file('housing_price_reg.joblib')       \n",
    "       row = pd.DataFrame([locals()], columns=features)\n",
    "       return m.predict(row)[0]\n"
   ]
  },
  {
   "cell_type": "markdown",
   "metadata": {},
   "source": [
    "<h2>Run Predictions & Model Serving</h2>"
   ]
  },
  {
   "cell_type": "code",
   "execution_count": 19,
   "metadata": {},
   "outputs": [
    {
     "data": {
      "text/html": [
       "<div>\n",
       "<style scoped>\n",
       "    .dataframe tbody tr th:only-of-type {\n",
       "        vertical-align: middle;\n",
       "    }\n",
       "\n",
       "    .dataframe tbody tr th {\n",
       "        vertical-align: top;\n",
       "    }\n",
       "\n",
       "    .dataframe thead th {\n",
       "        text-align: right;\n",
       "    }\n",
       "</style>\n",
       "<table border=\"1\" class=\"dataframe\">\n",
       "  <thead>\n",
       "    <tr style=\"text-align: right;\">\n",
       "      <th></th>\n",
       "      <th>PREDICTED_VALUE</th>\n",
       "      <th>ACTUAL_VALUE</th>\n",
       "    </tr>\n",
       "  </thead>\n",
       "  <tbody>\n",
       "    <tr>\n",
       "      <th>0</th>\n",
       "      <td>135441.00</td>\n",
       "      <td>140000.0</td>\n",
       "    </tr>\n",
       "    <tr>\n",
       "      <th>1</th>\n",
       "      <td>118197.00</td>\n",
       "      <td>110400.0</td>\n",
       "    </tr>\n",
       "    <tr>\n",
       "      <th>2</th>\n",
       "      <td>233106.00</td>\n",
       "      <td>191400.0</td>\n",
       "    </tr>\n",
       "    <tr>\n",
       "      <th>3</th>\n",
       "      <td>224431.00</td>\n",
       "      <td>188800.0</td>\n",
       "    </tr>\n",
       "    <tr>\n",
       "      <th>4</th>\n",
       "      <td>103799.00</td>\n",
       "      <td>87500.0</td>\n",
       "    </tr>\n",
       "    <tr>\n",
       "      <th>5</th>\n",
       "      <td>355583.11</td>\n",
       "      <td>75000.0</td>\n",
       "    </tr>\n",
       "    <tr>\n",
       "      <th>6</th>\n",
       "      <td>101761.00</td>\n",
       "      <td>75000.0</td>\n",
       "    </tr>\n",
       "    <tr>\n",
       "      <th>7</th>\n",
       "      <td>123777.00</td>\n",
       "      <td>112500.0</td>\n",
       "    </tr>\n",
       "    <tr>\n",
       "      <th>8</th>\n",
       "      <td>217602.24</td>\n",
       "      <td>137500.0</td>\n",
       "    </tr>\n",
       "    <tr>\n",
       "      <th>9</th>\n",
       "      <td>228977.05</td>\n",
       "      <td>257800.0</td>\n",
       "    </tr>\n",
       "    <tr>\n",
       "      <th>10</th>\n",
       "      <td>203803.01</td>\n",
       "      <td>237500.0</td>\n",
       "    </tr>\n",
       "    <tr>\n",
       "      <th>11</th>\n",
       "      <td>209148.01</td>\n",
       "      <td>350000.0</td>\n",
       "    </tr>\n",
       "    <tr>\n",
       "      <th>12</th>\n",
       "      <td>228737.02</td>\n",
       "      <td>335700.0</td>\n",
       "    </tr>\n",
       "    <tr>\n",
       "      <th>13</th>\n",
       "      <td>253420.01</td>\n",
       "      <td>259400.0</td>\n",
       "    </tr>\n",
       "    <tr>\n",
       "      <th>14</th>\n",
       "      <td>271750.05</td>\n",
       "      <td>234100.0</td>\n",
       "    </tr>\n",
       "    <tr>\n",
       "      <th>15</th>\n",
       "      <td>476682.66</td>\n",
       "      <td>392600.0</td>\n",
       "    </tr>\n",
       "    <tr>\n",
       "      <th>16</th>\n",
       "      <td>434453.19</td>\n",
       "      <td>365900.0</td>\n",
       "    </tr>\n",
       "    <tr>\n",
       "      <th>17</th>\n",
       "      <td>361579.01</td>\n",
       "      <td>366700.0</td>\n",
       "    </tr>\n",
       "    <tr>\n",
       "      <th>18</th>\n",
       "      <td>179094.00</td>\n",
       "      <td>233100.0</td>\n",
       "    </tr>\n",
       "    <tr>\n",
       "      <th>19</th>\n",
       "      <td>312977.04</td>\n",
       "      <td>296400.0</td>\n",
       "    </tr>\n",
       "  </tbody>\n",
       "</table>\n",
       "</div>"
      ],
      "text/plain": [
       "    PREDICTED_VALUE  ACTUAL_VALUE\n",
       "0         135441.00      140000.0\n",
       "1         118197.00      110400.0\n",
       "2         233106.00      191400.0\n",
       "3         224431.00      188800.0\n",
       "4         103799.00       87500.0\n",
       "5         355583.11       75000.0\n",
       "6         101761.00       75000.0\n",
       "7         123777.00      112500.0\n",
       "8         217602.24      137500.0\n",
       "9         228977.05      257800.0\n",
       "10        203803.01      237500.0\n",
       "11        209148.01      350000.0\n",
       "12        228737.02      335700.0\n",
       "13        253420.01      259400.0\n",
       "14        271750.05      234100.0\n",
       "15        476682.66      392600.0\n",
       "16        434453.19      365900.0\n",
       "17        361579.01      366700.0\n",
       "18        179094.00      233100.0\n",
       "19        312977.04      296400.0"
      ]
     },
     "execution_count": 19,
     "metadata": {},
     "output_type": "execute_result"
    }
   ],
   "source": [
    "from snowflake.snowpark import functions as F\n",
    "\n",
    "snowdf_test = session.table(\"HOUSING_TEST\")\n",
    "inputs = snowdf_test.drop(\"MEDIAN_HOUSE_VALUE\")\n",
    "\n",
    "# snowdf_results = snowdf_test.select(*inputs,\n",
    "#                     predict_house_value(*inputs).alias('predicted_value'), \n",
    "#                     (F.col('MEDIAN_HOUSE_VALUE')).alias('actual_value')\n",
    "#                     ).limit(20)\n",
    "\n",
    "snowdf_results = snowdf_test.select(\n",
    "                    predict_house_value(*inputs).alias('predicted_value'), \n",
    "                    (F.col('MEDIAN_HOUSE_VALUE')).alias('actual_value')\n",
    "                   ).limit(20)\n",
    "\n",
    "snowdf_results.to_pandas()"
   ]
  },
  {
   "cell_type": "markdown",
   "metadata": {},
   "source": [
    "<h2>Create Vectorized UDF For Optimal Performance"
   ]
  },
  {
   "cell_type": "code",
   "execution_count": 20,
   "metadata": {},
   "outputs": [],
   "source": [
    "import pandas\n",
    "import sys\n",
    "import cachetools\n",
    "import os\n",
    "from snowflake.snowpark.functions import pandas_udf\n",
    "from snowflake.snowpark import types as T\n",
    "\n",
    "features = ['LONGITUDE', 'LATITUDE', 'HOUSING_MEDIAN_AGE', 'TOTAL_ROOMS',\n",
    "       'TOTAL_BEDROOMS', 'POPULATION', 'HOUSEHOLDS', 'MEDIAN_INCOME', 'OCEAN_PROXIMITY']\n",
    "\n",
    "session.add_import(\"@house_model_output_stg/housing_price_reg.joblib\")\n",
    "@cachetools.cached(cache={})\n",
    "def read_file(filename):\n",
    "       import_dir = sys._xoptions.get(\"snowflake_import_directory\")\n",
    "       if import_dir:\n",
    "              with open(os.path.join(import_dir, filename), 'rb') as file:\n",
    "                     m = joblib.load(file)\n",
    "                     return m\n",
    "\n",
    "@pandas_udf(max_batch_size=100)\n",
    "def predict_batch(df: T.PandasDataFrame[float, float, float, float,\n",
    "                                          float, float, float, float, str]) -> T.PandasSeries[float]:\n",
    "       m = read_file('housing_price_reg.joblib') \n",
    "       df.columns = features\n",
    "       return m.predict(df)"
   ]
  },
  {
   "cell_type": "code",
   "execution_count": 21,
   "metadata": {},
   "outputs": [
    {
     "data": {
      "text/html": [
       "<div>\n",
       "<style scoped>\n",
       "    .dataframe tbody tr th:only-of-type {\n",
       "        vertical-align: middle;\n",
       "    }\n",
       "\n",
       "    .dataframe tbody tr th {\n",
       "        vertical-align: top;\n",
       "    }\n",
       "\n",
       "    .dataframe thead th {\n",
       "        text-align: right;\n",
       "    }\n",
       "</style>\n",
       "<table border=\"1\" class=\"dataframe\">\n",
       "  <thead>\n",
       "    <tr style=\"text-align: right;\">\n",
       "      <th></th>\n",
       "      <th>PREDICTED_VALUE</th>\n",
       "      <th>ACTUAL_VALUE</th>\n",
       "    </tr>\n",
       "  </thead>\n",
       "  <tbody>\n",
       "    <tr>\n",
       "      <th>0</th>\n",
       "      <td>135441.00</td>\n",
       "      <td>140000.0</td>\n",
       "    </tr>\n",
       "    <tr>\n",
       "      <th>1</th>\n",
       "      <td>118197.00</td>\n",
       "      <td>110400.0</td>\n",
       "    </tr>\n",
       "    <tr>\n",
       "      <th>2</th>\n",
       "      <td>233106.00</td>\n",
       "      <td>191400.0</td>\n",
       "    </tr>\n",
       "    <tr>\n",
       "      <th>3</th>\n",
       "      <td>224431.00</td>\n",
       "      <td>188800.0</td>\n",
       "    </tr>\n",
       "    <tr>\n",
       "      <th>4</th>\n",
       "      <td>103799.00</td>\n",
       "      <td>87500.0</td>\n",
       "    </tr>\n",
       "    <tr>\n",
       "      <th>5</th>\n",
       "      <td>355583.11</td>\n",
       "      <td>75000.0</td>\n",
       "    </tr>\n",
       "    <tr>\n",
       "      <th>6</th>\n",
       "      <td>101761.00</td>\n",
       "      <td>75000.0</td>\n",
       "    </tr>\n",
       "    <tr>\n",
       "      <th>7</th>\n",
       "      <td>123777.00</td>\n",
       "      <td>112500.0</td>\n",
       "    </tr>\n",
       "    <tr>\n",
       "      <th>8</th>\n",
       "      <td>217602.24</td>\n",
       "      <td>137500.0</td>\n",
       "    </tr>\n",
       "    <tr>\n",
       "      <th>9</th>\n",
       "      <td>228977.05</td>\n",
       "      <td>257800.0</td>\n",
       "    </tr>\n",
       "    <tr>\n",
       "      <th>10</th>\n",
       "      <td>203803.01</td>\n",
       "      <td>237500.0</td>\n",
       "    </tr>\n",
       "    <tr>\n",
       "      <th>11</th>\n",
       "      <td>209148.01</td>\n",
       "      <td>350000.0</td>\n",
       "    </tr>\n",
       "    <tr>\n",
       "      <th>12</th>\n",
       "      <td>228737.02</td>\n",
       "      <td>335700.0</td>\n",
       "    </tr>\n",
       "    <tr>\n",
       "      <th>13</th>\n",
       "      <td>253420.01</td>\n",
       "      <td>259400.0</td>\n",
       "    </tr>\n",
       "    <tr>\n",
       "      <th>14</th>\n",
       "      <td>271750.05</td>\n",
       "      <td>234100.0</td>\n",
       "    </tr>\n",
       "    <tr>\n",
       "      <th>15</th>\n",
       "      <td>476682.66</td>\n",
       "      <td>392600.0</td>\n",
       "    </tr>\n",
       "    <tr>\n",
       "      <th>16</th>\n",
       "      <td>434453.19</td>\n",
       "      <td>365900.0</td>\n",
       "    </tr>\n",
       "    <tr>\n",
       "      <th>17</th>\n",
       "      <td>361579.01</td>\n",
       "      <td>366700.0</td>\n",
       "    </tr>\n",
       "    <tr>\n",
       "      <th>18</th>\n",
       "      <td>179094.00</td>\n",
       "      <td>233100.0</td>\n",
       "    </tr>\n",
       "    <tr>\n",
       "      <th>19</th>\n",
       "      <td>312977.04</td>\n",
       "      <td>296400.0</td>\n",
       "    </tr>\n",
       "  </tbody>\n",
       "</table>\n",
       "</div>"
      ],
      "text/plain": [
       "    PREDICTED_VALUE  ACTUAL_VALUE\n",
       "0         135441.00      140000.0\n",
       "1         118197.00      110400.0\n",
       "2         233106.00      191400.0\n",
       "3         224431.00      188800.0\n",
       "4         103799.00       87500.0\n",
       "5         355583.11       75000.0\n",
       "6         101761.00       75000.0\n",
       "7         123777.00      112500.0\n",
       "8         217602.24      137500.0\n",
       "9         228977.05      257800.0\n",
       "10        203803.01      237500.0\n",
       "11        209148.01      350000.0\n",
       "12        228737.02      335700.0\n",
       "13        253420.01      259400.0\n",
       "14        271750.05      234100.0\n",
       "15        476682.66      392600.0\n",
       "16        434453.19      365900.0\n",
       "17        361579.01      366700.0\n",
       "18        179094.00      233100.0\n",
       "19        312977.04      296400.0"
      ]
     },
     "execution_count": 21,
     "metadata": {},
     "output_type": "execute_result"
    }
   ],
   "source": [
    "from snowflake.snowpark import functions as F\n",
    "\n",
    "snowdf_test = session.table(\"HOUSING_TEST\")\n",
    "inputs = snowdf_test.drop(\"MEDIAN_HOUSE_VALUE\")\n",
    "snowdf_results = snowdf_test.select(\n",
    "                    predict_batch(*inputs).alias('predicted_value'), \n",
    "                    (F.col('MEDIAN_HOUSE_VALUE')).alias('actual_value')\n",
    "                    ).limit(20)\n",
    "                   \n",
    "snowdf_results.to_pandas().head(20)"
   ]
  }
 ],
 "metadata": {
  "kernelspec": {
   "display_name": "Python 3",
   "language": "python",
   "name": "python3"
  },
  "language_info": {
   "codemirror_mode": {
    "name": "ipython",
    "version": 3
   },
   "file_extension": ".py",
   "mimetype": "text/x-python",
   "name": "python",
   "nbconvert_exporter": "python",
   "pygments_lexer": "ipython3",
   "version": "3.8.7rc1"
  }
 },
 "nbformat": 4,
 "nbformat_minor": 4
}
